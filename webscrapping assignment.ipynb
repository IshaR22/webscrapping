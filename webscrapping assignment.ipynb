{
 "cells": [
  {
   "cell_type": "code",
   "execution_count": null,
   "id": "d1b954d9-404e-4a1b-8144-27a1910f8c48",
   "metadata": {},
   "outputs": [],
   "source": [
    "Q1. What is Web Scraping? Why is it Used? Give three areas where Web Scraping is used to get data."
   ]
  },
  {
   "cell_type": "code",
   "execution_count": null,
   "id": "0589534e-03e2-473b-bf22-eeb650ba8adf",
   "metadata": {},
   "outputs": [],
   "source": [
    "Web scraping refers to the automated process of extracting data from websites. \n",
    "It involves using software to fetch web pages, parse the HTML or other structured formats, \n",
    "and extract relevant information. \n",
    "Web scraping is used for various purposes,such as \n",
    "\n",
    "Data Collection for Research:\n",
    "    Researchers use web scraping to collect large datasets for analysis and study, such as social media data, \n",
    "    scientific publications,etc\n",
    "Market Research and Competitive Analysis:\n",
    "    Businesses use web scraping to gather data on competitors, market trends, pricing information, and customer\n",
    "    review from various websites.\n",
    "Content Aggregation:\n",
    "    News aggregators and content websites use web scraping to collect articles, blogs, and other content from \n",
    "    different sources across the web.\n",
    "\n"
   ]
  },
  {
   "cell_type": "code",
   "execution_count": null,
   "id": "efd50e65-b753-4b26-ab75-650c83e6c637",
   "metadata": {},
   "outputs": [],
   "source": [
    "Q2. What are the different methods used for Web Scraping?"
   ]
  },
  {
   "cell_type": "code",
   "execution_count": null,
   "id": "d914afbb-0933-4f93-b8fe-514950148a28",
   "metadata": {},
   "outputs": [],
   "source": [
    "Parsing HTML: \n",
    "    This method involves using libraries like BeautifulSoup (in Python) to parse HTML and extract\n",
    "    desired data based on tags, attributes, and structure.\n",
    "\n",
    "Using Web Scraping Frameworks/Libraries\n",
    "Frameworks and libraries such as Scrapy (Python), Puppeteer (JavaScript), and Selenium (multiple languages) \n",
    "provide higher-level abstractions and tools for navigating and scraping websites.\n",
    "\n",
    "APIs:\n",
    "    Some websites provide APIs (Application Programming Interfaces) that allow structured access to their data.\n",
    "    This is often the preferred method when available, as it provides clean, structured data directly.\n",
    "\n",
    "Browser Extensions: \n",
    "    Browser extensions like Web Scraper (for Chrome) offer point-and-click interfaces to define scraping rules\n",
    "    directly in the browser."
   ]
  },
  {
   "cell_type": "code",
   "execution_count": null,
   "id": "3e79c4b1-2f68-40bc-a370-b1902eff8df5",
   "metadata": {},
   "outputs": [],
   "source": [
    "Q3. What is Beautiful Soup? Why is it used?"
   ]
  },
  {
   "cell_type": "code",
   "execution_count": null,
   "id": "46a8bed2-97ea-4934-9bf9-c98dc9431e41",
   "metadata": {},
   "outputs": [],
   "source": [
    "Beautiful Soup is a Python library used for parsing HTML and XML documents, extracting data, and navigating \n",
    "the parse tree.\n",
    "Parsing HTML/XML: \n",
    "    Beautiful Soup converts HTML/XML documents into a parse tree of nested Python objects, making it easier to\n",
    "    navigate and manipulate the document's structure.\n",
    "\n",
    "Data Extraction:\n",
    "    It provides methods and attributes to extract data by searching for tags, attributes, and text within\n",
    "    the parsed document. This makes it efficient for scraping specific information from web pages"
   ]
  },
  {
   "cell_type": "code",
   "execution_count": null,
   "id": "2534553b-129a-4596-a1d0-5d88dacb933d",
   "metadata": {},
   "outputs": [],
   "source": [
    "Q4. Why is flask used in this Web Scraping project?"
   ]
  },
  {
   "cell_type": "code",
   "execution_count": null,
   "id": "29b14fc2-17de-4ba4-ae0d-85ec51af9574",
   "metadata": {},
   "outputs": [],
   "source": [
    "it is a lighweight python web framework that help developer build web application\n",
    "\n",
    "Web Interface: \n",
    "    Flask allows us to create a web interface for your web scraping application. This can include a UI \n",
    "    where users can input URLs for scraping, view scraped data, and interact with the application.\n",
    "Routing and URL Handling:\n",
    "    Flask provides easy routing capabilities, allowing us to define different routes (URL endpoints) that\n",
    "    handle different parts of the scraping process. \n",
    "Integration with Python Libraries: \n",
    "    Flask integrates well with other Python libraries commonly used in web scraping, such as BeautifulSoup or\n",
    "    Scrapy. we use Flask to orchestrate the scraping process, manage data storage, and present results through \n",
    "    HTML templates or JSON responses."
   ]
  },
  {
   "cell_type": "code",
   "execution_count": null,
   "id": "05a8698e-5b23-4913-874d-981bbeabf90f",
   "metadata": {},
   "outputs": [],
   "source": [
    "Q5. Write the names of AWS services used in this project. Also, explain the use of each service."
   ]
  },
  {
   "cell_type": "code",
   "execution_count": null,
   "id": "dcfb3117-cd4d-4534-ab05-79aa1c108b8c",
   "metadata": {},
   "outputs": [],
   "source": [
    "EC2 (Elastic Compute Cloud): \n",
    "EC2 instances are virtual servers that is used to run applications and host web scraping scripts.\n",
    "it provide scalable computing capacity in the cloud. They can host Python scripts or web applications that\n",
    "perform web scraping tasks.\n",
    "\n",
    "S3 (Simple Storage Service):\n",
    "S3 is used for storing scraped data and other files, such as logs or configuration files.\n",
    "it  provides scalable object storage with high durability and availability. It is  suitable for storing \n",
    "large volumes of data collected during web scraping, making it easily accessible and secure."
   ]
  }
 ],
 "metadata": {
  "kernelspec": {
   "display_name": "Python 3 (ipykernel)",
   "language": "python",
   "name": "python3"
  },
  "language_info": {
   "codemirror_mode": {
    "name": "ipython",
    "version": 3
   },
   "file_extension": ".py",
   "mimetype": "text/x-python",
   "name": "python",
   "nbconvert_exporter": "python",
   "pygments_lexer": "ipython3",
   "version": "3.10.8"
  }
 },
 "nbformat": 4,
 "nbformat_minor": 5
}
